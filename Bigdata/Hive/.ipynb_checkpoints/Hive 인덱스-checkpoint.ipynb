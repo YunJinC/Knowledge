{
 "cells": [
  {
   "cell_type": "markdown",
   "metadata": {},
   "source": [
    "## Hive 인덱스(index)\n",
    "하이브 인덱스는 연산 속도를 향상시키기 위해 컬럼에 인덱스를 생성할 수 있으나, RDBMS의 인덱스랑 다르게 기능이 많이 제한적이다. 하이브는 인덱스 데이터를 원본 테이블이 아닌 별도 테이블에 저장한다. 그래서 인덱스 생성시 별도의 디스크 공간이 필요하고 생성에 따른 비용이 발생한다. 그래서 인덱스를 생성할때 사용 유무 및 효율을 잘 고려해서 생성해야 한다.\n",
    "\n",
    "하지만 하이브에서 인덱스는 논리적 파티션의 크기가 작고 개수가 많은 경우 파티셔닝을 대신해서 사용할 수 있으며, 맵리듀스의 잡의 입력으로 사용할 테이블 블록을 푸루닝(pruning)하는데 도움을 줄 수 있다. 위에서 언급했듯이 모든 쿼리가 인덱스로 효율적인 것은 아니므로 실행계획을 분석하여 쿼리가 어떤 인덱스를 사용하는지 확인이 필요하다.\n",
    "\n",
    "### Hive 인덱스 생성\n",
    "- 기본 인덱스 설정\n",
    "```sql\n",
    "CREATE INDEX ix_tbl_a\n",
    "ON TABLE tbl_a (col_1)\n",
    "AS 'org.apache.hadoop.hive.ql.index.compact.CompactIndexHandler'\n",
    "WITH DEFERRED REBUILD;\n",
    "```\n",
    "WITH DEFERRED REBUILD : 인덱스가 비어있는 상태에서 시작\n",
    "\n",
    "- 인덱스 테이블 생성\n",
    "```sql\n",
    "CREATE INDEX ix_tbl_a\n",
    "ON TABLE tbl_a (col_1)\n",
    "AS 'org.apache.hadoop.hive.ql.index.compact.CompactIndexHandler'\n",
    "WITH DEFERRED REBUILD\n",
    "IN TABLE tbl_a_index_table\n",
    "PARTITION BY (par = 'XX');\n",
    "```\n",
    "IN TABLE : 인덱스 테이블 지정\n",
    "- 리빌딩\n",
    "```sql\n",
    "ALTER INDEX ix_tbl_a\n",
    "ON TABLE tbl_a\n",
    "PARTITION (par = 'XX')\n",
    "REBUILD;\n",
    "```\n",
    "- 인덱스 삭제\n",
    "```sql\n",
    "DROP INDEX IF EXISTS ix_tbl_a ON TABLE tbl_a;\n",
    "```\n",
    "- 인덱스 정보 조회\n",
    "```sql\n",
    "SHOW FORMATTED INDEX ON tbl_a;\n",
    "```"
   ]
  }
 ],
 "metadata": {
  "kernelspec": {
   "display_name": "Python 3",
   "language": "python",
   "name": "python3"
  },
  "language_info": {
   "codemirror_mode": {
    "name": "ipython",
    "version": 3
   },
   "file_extension": ".py",
   "mimetype": "text/x-python",
   "name": "python",
   "nbconvert_exporter": "python",
   "pygments_lexer": "ipython3",
   "version": "3.7.6"
  }
 },
 "nbformat": 4,
 "nbformat_minor": 4
}
