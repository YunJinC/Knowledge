{
 "cells": [
  {
   "cell_type": "markdown",
   "metadata": {},
   "source": [
    "# 추천시스템 Deep Learning (NCF, DeepFM)\n",
    "\n",
    "## 추천시스템 요약 설명\n",
    "- NCF (Neural Collaborative Filtering) : MF(Matrix Factorization) + DeepLearning\n",
    "- DeepFM (Deep Factorization Macheine) : FM(Factorization Macheine) + DeepLearning\n",
    "\n",
    "## 추천시스템 요약 사진\n",
    "\n",
    "### NCF\n",
    "<img src='./image/NCF.png' width='50%'>\n",
    "\n",
    "#### GMF (Generalized Matrix Factorization)\n",
    "<img src = \"./image/추천시스템MF_1.png\" width=\"30%\">\n",
    "\n",
    "### DeepFM\n",
    "<img src='./image/DeepFM.png' width='50%'>\n",
    "\n",
    "#### FM (Fatorization Machines)\n",
    "<img src = \"./image/추천시스템FM_1.png\" width=\"50%\">\n",
    "<img src = \"./image/추천시스템FM_2.png\" width=\"80%\">"
   ]
  },
  {
   "cell_type": "markdown",
   "metadata": {},
   "source": [
    "## NCF 코드 간략 설명\n",
    "\n",
    "### MF(GMF : Generalized Matrix Factorization)\n",
    "``` python\n",
    "# User embedding for GMF\n",
    "gmf_user_embedding = Embedding(user_num, latent_features, input_length=user.shape[1])(user)\n",
    "gmf_user_embedding = Flatten()(gmf_user_embedding)\n",
    "\n",
    "# Item embedding for GMF\n",
    "gmf_item_embedding = Embedding(item_num, latent_features, input_length=item.shape[1])(item)\n",
    "gmf_item_embedding = Flatten()(gmf_item_embedding)\n",
    "\n",
    "# GMF layers\n",
    "gmf_mul =  Multiply()([gmf_user_embedding, gmf_item_embedding])\n",
    "```\n",
    "\n",
    "### DeepLearning(MLF : Multi-Layer Perceptron)\n",
    "``` python\n",
    "# User embedding for MLP\n",
    "mlp_user_embedding = Embedding(user_num, 32, input_length=user.shape[1])(user)\n",
    "mlp_user_embedding = Flatten()(mlp_user_embedding)\n",
    "\n",
    "# Item embedding for MLP\n",
    "mlp_item_embedding = Embedding(item_num, 32, input_length=item.shape[1])(item)\n",
    "mlp_item_embedding = Flatten()(mlp_item_embedding)\n",
    "\n",
    "# MLP layers\n",
    "mlp_concat = Concatenate()([mlp_user_embedding, mlp_item_embedding])\n",
    "mlp_dropout = Dropout(0.2)(mlp_concat)\n",
    "\n",
    "# Layer1\n",
    "mlp_layer_1 = Dense(units=64, activation='relu', name='mlp_layer1')(mlp_dropout)  # (64,1)\n",
    "mlp_dropout1 = Dropout(rate=0.2, name='dropout1')(mlp_layer_1)                    # (64,1)\n",
    "mlp_batch_norm1 = BatchNormalization(name='batch_norm1')(mlp_dropout1)            # (64,1)\n",
    "\n",
    "# Layer2\n",
    "mlp_layer_2 = Dense(units=32, activation='relu', name='mlp_layer2')(mlp_batch_norm1)  # (32,1)\n",
    "mlp_dropout2 = Dropout(rate=0.2, name='dropout2')(mlp_layer_2)                        # (32,1)\n",
    "mlp_batch_norm2 = BatchNormalization(name='batch_norm2')(mlp_dropout2)                # (32,1)\n",
    "\n",
    "# Layer3\n",
    "mlp_layer_3 = Dense(units=16, activation='relu', name='mlp_layer3')(mlp_batch_norm2)  # (16,1)\n",
    "\n",
    "# Layer4\n",
    "mlp_layer_4 = Dense(units=8, activation='relu', name='mlp_layer4')(mlp_layer_3)       # (8,1)\n",
    "```\n",
    "\n",
    "### GMF + MLF\n",
    "``` python\n",
    "# merge GMF + MLP\n",
    "merged_vector = tf.keras.layers.concatenate([gmf_mul, mlp_layer_4])\n",
    "```"
   ]
  },
  {
   "cell_type": "code",
   "execution_count": null,
   "metadata": {},
   "outputs": [],
   "source": []
  }
 ],
 "metadata": {
  "kernelspec": {
   "display_name": "Python 3",
   "language": "python",
   "name": "python3"
  },
  "language_info": {
   "codemirror_mode": {
    "name": "ipython",
    "version": 3
   },
   "file_extension": ".py",
   "mimetype": "text/x-python",
   "name": "python",
   "nbconvert_exporter": "python",
   "pygments_lexer": "ipython3",
   "version": "3.7.6"
  }
 },
 "nbformat": 4,
 "nbformat_minor": 4
}
