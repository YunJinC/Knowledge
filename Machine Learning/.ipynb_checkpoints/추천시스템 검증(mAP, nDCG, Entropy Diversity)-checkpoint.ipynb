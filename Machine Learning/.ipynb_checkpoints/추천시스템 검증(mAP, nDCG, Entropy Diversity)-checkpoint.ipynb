{
 "cells": [
  {
   "cell_type": "markdown",
   "metadata": {},
   "source": [
    "# 추천시스템 검증(mAP, nDCG, Entropy Diversity)"
   ]
  },
  {
   "cell_type": "markdown",
   "metadata": {},
   "source": [
    "## 추천시스템의 특징\n",
    "1. 랭킹\n",
    " - 추천된 결과물이 얼마나 잘 맞느냐도 중요하지만 첫번째로 추천한 결과물이 잘맞는게 중요\n",
    "2. 개인화\n",
    " - 모든사람이 선호하는 것을 동일하게 추천하는 것보다 개인의 성향에 맞게 추천해주는게 필요"
   ]
  },
  {
   "cell_type": "markdown",
   "metadata": {},
   "source": [
    "---"
   ]
  },
  {
   "cell_type": "markdown",
   "metadata": {},
   "source": [
    "## 추천시스템 검증 알고리즘\n",
    "1. 랭킹\n",
    " - mAP(mean Average Precision) : 재현율(Recall)의 값이 0~1까지 변화할 때 정밀도(Precision) 값의 평균 값\n",
    " - nDCG(normalized Discounted Cumulative Gain) : 순서에 가중치를 주는 성능 평가 지표\n",
    "2. 개인화\n",
    " - Entropy Diversity : 추천 결과가 얼마나 분산되어 있는지를 판단"
   ]
  },
  {
   "cell_type": "markdown",
   "metadata": {},
   "source": [
    "---"
   ]
  },
  {
   "cell_type": "markdown",
   "metadata": {},
   "source": [
    "## mAP (mean Average Precision)\n",
    "\n",
    "### 사전 지식\n",
    "1. 오차행렬(Confusion Matrix) : 이진 분류에서 성능 지표로 잘 활용됨\n",
    "<img src='./image/오차행렬_1.png'>\n",
    "\n",
    " - TN(True Negative) : 예측 False - 실제 False\n",
    " - FP(False Positive) : 예측 True - 실제 False\n",
    " - FN(False Negative) : 예측 False - 실제 True\n",
    " - TP(True Positive) : 예측 True - 실제 True\n",
    "\n",
    "\n",
    "2. 정밀도(Precision) : 예측을 Positive로 한 대상 중에 예측과 실제 값이 Positive로 일치한 데이터의 비율\n",
    " - 수식 \n",
    " $$ 정밀도(Precision) = {TP \\over (FP + TP) } $$\n",
    " - 사용 용도\n",
    " ```\n",
    "  실제 Negative 음성인 데이터를 Positive 잘못 판단하게 되면 업무상 큰 영향이 발생하는 경우\n",
    "  TP를 높이면서 FP를 낮추는데 초점\n",
    " ```\n",
    " \n",
    " \n",
    "3. 제현율(Recall) : 실제값이 Positive인 대상 중에 예측과 실제 값이 Positive로 일치한 데이터의 비율\n",
    " - 수식 \n",
    " $$ 재현율(Recall) = {TP \\over (FN + TP)} $$\n",
    " - 사용 용도\n",
    " ```\n",
    "  실제 Positive 양성 데이터를 Negative로 잘못 판단하게 되면 업무상 큰 영향을 발생하는 경우\n",
    "  TP를 높이면서 FN을 낮추는데 초점\n",
    " ```\n",
    "\n",
    "### 예시\n",
    "- 예시 1\n",
    "<img src='./image/mAP_1.png' width='70%'>\n",
    " $$ mAP = (1.0 + 1.0 + 0.66 + 0.5 + 0.4 + 0.5+ 0.57 + 0.5+ 0.55) / 9 = 0.63 $$\n",
    "\n",
    "- 예시 2\n",
    "<img src='./image/mAP_2.png' width='70%'>\n",
    " $$ mAP = (0.0 + 0.5 + 0.33 + 0.25 + 0.2 + 0.33 + 0.42 + 0.375 + 0.44 + 0.5) / 10 = 0.3345 $$\n",
    "\n",
    "\n",
    "### 결론\n",
    "- 정답을 맞춘 순서만 달라졌음에도 mAP가 두 배 가까이 차이 \n",
    "  - 순서 정보를 반영하여 정확도를 평가 가능\n",
    "- 실제로 소비한 아이템의 수 많은 경우 재현율(Recall)이 1이 되는 지점까지 고려하는 것은 무리\n",
    "  - 최대 n개까지만 고려하여 mAP를 계산 -> mAP@n 으로 표기\n",
    "  - 예시 1 $$ mAP@5 = (1.0 + 1.0 + 0.66 + 0.5 + 0.4) / 5 = 0.712 $$\n",
    "  - 예시 2 $$ mAP@5 = (0 + 0.5 + 0.33 + 0.25 + 0.2) / 5 = 0.256 $$"
   ]
  },
  {
   "cell_type": "markdown",
   "metadata": {},
   "source": [
    "---"
   ]
  },
  {
   "cell_type": "markdown",
   "metadata": {},
   "source": [
    "## nDCG (normalized Discounted Cumulative Gain)\n",
    "\n",
    "### Relevance Score : 추천 점수 or 추천 여부\n",
    "\n",
    "\n",
    "### Cumulative Gain(CG) : Relevance Score의 총합\n",
    "$$ Cumulative Gain(CG) = \\sum\\limits_{i=1}^{n}{relevance_i}  $$\n",
    "- **예시**\n",
    "  \n",
    "  $$ Set A = [2, 3, 3, 1, 2] $$\n",
    "  \n",
    "  $$ Set B = [3, 3, 2, 2, 1] $$\n",
    "  \n",
    "  $$ CG_A = 2 + 3 + 3 + 1 + 2 = 11 $$\n",
    "  \n",
    "  $$ CG_B = 3 + 3 + 2 + 2 + 1 = 11 $$\n",
    "  \n",
    "  \n",
    "### Discounted Cumulative Gain(DCG) : 순서에 대한 가산점을 부여하는 Relevance Score의 총합\n",
    "$$ DCG = \\sum\\limits_{i=1}^{n}{relevance_i\\over{log_2(i+1)}} $$\n",
    "- **예시**\n",
    "  \n",
    "  $$ DCG_A = {2\\over{log_2(1+1)}} + {3\\over{log_2(2+1)}} + {3\\over{log_2(3+1)}} + {1\\over{log_2(4+1)}} + {2\\over{log_2(5+1)}} \\approx 6.64 $$\n",
    "  \n",
    "  $$ DCG_B = {3\\over{log_2(1+1)}} + {3\\over{log_2(2+1)}} + {2\\over{log_2(3+1)}} + {2\\over{log_2(4+1)}} + {1\\over{log_2(5+1)}} \\approx 7.14 $$\n",
    "  \n",
    "  \n",
    "### iDCG(ideal Discounted Cumulative Gain) : 모든 추천이 맞았을 때의 Relevance Score의 총합\n",
    "\n",
    "\n",
    "### nDCG(normalized Discounted Cumulative Gain) : DCG / iDCG\n",
    "- **예시**\n",
    "<img src='./image/DCG.png' width='70%'>\n",
    "\n",
    "$$ DCG = {1\\over{log_2(1+1)}} + {1\\over{log_2(2+1)}} + {1\\over{log_2(6+1)}} + {1\\over{log_2(7+1)}} + {1\\over{log_2(9+1)}} \\approx 8.70 $$\n",
    "\n",
    "$$ iDCG = {\\sum\\limits_{i=1}^{10}{1\\over{log_2(i+1)}}} = 15.09 $$\n",
    "\n",
    "$$ nDCG = {DCG \\over iDCG} = {8.70 \\over 15.09} = 0.57 $$"
   ]
  },
  {
   "cell_type": "markdown",
   "metadata": {},
   "source": [
    "---"
   ]
  },
  {
   "cell_type": "markdown",
   "metadata": {},
   "source": [
    "## Entropy Diversity\n",
    "추천 결과가 얼마나 분산되어 있는지를 판단 -> 개인화 추천의 정도를 판단\n",
    "\n",
    "### 사전 지식\n",
    "1. 정보량 : 사건이 일어날 확률에 로그 -> 잘 일어나지 않는 사건의 정보량은 잘 일어나는 사건의 정보량보다 많다\n",
    "$$ I(x) = {-lnP(x)} $$\n",
    "<img src='./image/정보량.png' width='40%'>\n",
    "\n",
    "  - **예제(윷놀이)**\n",
    " $$ 개가나올확률 = {6 \\over 16} $$\n",
    " $$ 개가나올정보량 = {-ln(개가나올확률)} = {-ln({6 \\over 16})} \\approx 0.98 $$\n",
    " $$ 윷이나올확률 = {1 \\over 16} $$\n",
    " $$ 윷이나올정보량 = {-ln(윷이나올확률)} = {-ln({1 \\over 16})} \\approx 2.77 $$\n",
    "\n",
    "\n",
    "2. Entropy : 발생할 수 있는 모든 사건들의 정보량의 기대 값\n",
    "$$ H' = {-{\\sum\\limits_{i=1}^{R}{p_ilnp_i}}} $$\n",
    "<img src='./image/윷놀이.png' width='60%'>\n",
    "\n",
    "### Entropy Diversity\n",
    "$$ Entropy-Diversity = {-{\\sum\\limits_{i=1}^{n}{({rec(i) \\over total})ln({rec(i) \\over total})}}} $$\n",
    "<img src='./image/엔트로피.png' width='60%'>"
   ]
  }
 ],
 "metadata": {
  "kernelspec": {
   "display_name": "Python 3",
   "language": "python",
   "name": "python3"
  },
  "language_info": {
   "codemirror_mode": {
    "name": "ipython",
    "version": 3
   },
   "file_extension": ".py",
   "mimetype": "text/x-python",
   "name": "python",
   "nbconvert_exporter": "python",
   "pygments_lexer": "ipython3",
   "version": "3.7.6"
  }
 },
 "nbformat": 4,
 "nbformat_minor": 4
}
