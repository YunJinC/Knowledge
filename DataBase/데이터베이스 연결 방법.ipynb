{
 "cells": [
  {
   "cell_type": "markdown",
   "metadata": {},
   "source": [
    "## 데이터베이스 연결 방법 종류\n",
    "- DIRECT : DataBase Direct로 접속하는 방법\n",
    "- JDBC : JDBC(Java DataBase Connectivity)를 이용해서 DataBase에 접속하는 방법\n",
    "- ODBC : ODBC(Open DataBase Connectivity)를 이용해서 DataBase에 접속하는 방법\n",
    "- TNS : TNS(Transparent Network Substrate)파일의 정보를 이용해서 접속하는 방법\n",
    "\n"
   ]
  },
  {
   "cell_type": "markdown",
   "metadata": {},
   "source": [
    "### Python에서 연결 방법\n",
    "- sqlalchemy, pandas 조합"
   ]
  },
  {
   "cell_type": "markdown",
   "metadata": {},
   "source": [
    "#### 설정"
   ]
  },
  {
   "cell_type": "code",
   "execution_count": null,
   "metadata": {},
   "outputs": [],
   "source": [
    "from sqlalchemy import create_engine\n",
    "# postgresql\n",
    "# 필요 라이브러리 : psycopg2\n",
    "params={\n",
    "    'user': 'postgres',\n",
    "    'pass': 'dsc123',\n",
    "    'host': '192.168.1.214',\n",
    "    'port': '5432',\n",
    "    'db'  : 'datavoucher',\n",
    "}\n",
    "engine = create_engine('postgresql://{user}:{pass}@{host}:{port}/{db}'.format(**params), echo=False)\n",
    "\n",
    "# mysql\n",
    "# 필요 라이브러리 : mysql-client\n",
    "params={\n",
    "    'user': 'root',\n",
    "    'pass': 'dsc123',\n",
    "    'host': '192.168.1.214',\n",
    "    'port': '3306',\n",
    "    'db': 'DATAVOUCHER?charset=utf8mb4',\n",
    "}\n",
    "engine = create_engine('mysql+mysqldb://{user}:{pass}@{host}:{port}/{db}'.format(**params), echo=False)"
   ]
  },
  {
   "cell_type": "markdown",
   "metadata": {},
   "source": [
    "#### 사용법"
   ]
  },
  {
   "cell_type": "code",
   "execution_count": null,
   "metadata": {},
   "outputs": [],
   "source": [
    "import pandas as pd\n",
    "# SELECT : DataFrame 포맷으로 결과 출력\n",
    "df = pd.read_sql('QUERY', con=engine)\n",
    "# DELETE, UPDATE\n",
    "pd.read_sql('QUERY', con=engine)\n",
    "# INSERT\n",
    "df.to_sql('TABLE_NAME', con=engine, index=False, if_exists='append', schema='schema_name')"
   ]
  }
 ],
 "metadata": {
  "kernelspec": {
   "display_name": "Python 3",
   "language": "python",
   "name": "python3"
  },
  "language_info": {
   "codemirror_mode": {
    "name": "ipython",
    "version": 3
   },
   "file_extension": ".py",
   "mimetype": "text/x-python",
   "name": "python",
   "nbconvert_exporter": "python",
   "pygments_lexer": "ipython3",
   "version": "3.7.6"
  }
 },
 "nbformat": 4,
 "nbformat_minor": 4
}
